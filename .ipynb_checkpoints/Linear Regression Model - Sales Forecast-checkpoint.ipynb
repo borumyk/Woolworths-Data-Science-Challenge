{
 "cells": [
  {
   "cell_type": "code",
   "execution_count": 1,
   "id": "efb14a85",
   "metadata": {},
   "outputs": [],
   "source": [
    "# Importing the libraries\n",
    "import numpy as np\n",
    "import matplotlib.pyplot as plt\n",
    "import pandas as pd\n",
    "import seaborn as sns"
   ]
  },
  {
   "cell_type": "code",
   "execution_count": 4,
   "id": "ab5c9b2f",
   "metadata": {},
   "outputs": [
    {
     "data": {
      "text/html": [
       "<div>\n",
       "<style scoped>\n",
       "    .dataframe tbody tr th:only-of-type {\n",
       "        vertical-align: middle;\n",
       "    }\n",
       "\n",
       "    .dataframe tbody tr th {\n",
       "        vertical-align: top;\n",
       "    }\n",
       "\n",
       "    .dataframe thead th {\n",
       "        text-align: right;\n",
       "    }\n",
       "</style>\n",
       "<table border=\"1\" class=\"dataframe\">\n",
       "  <thead>\n",
       "    <tr style=\"text-align: right;\">\n",
       "      <th></th>\n",
       "      <th>Store</th>\n",
       "      <th>Date</th>\n",
       "      <th>IsHoliday</th>\n",
       "      <th>Weekly_Sales</th>\n",
       "      <th>Size</th>\n",
       "      <th>Temperature</th>\n",
       "      <th>Fuel_Price</th>\n",
       "      <th>Unemployment</th>\n",
       "      <th>CPI</th>\n",
       "      <th>Average_earning</th>\n",
       "      <th>Population</th>\n",
       "      <th>Population_over_65</th>\n",
       "      <th>Population_under_18</th>\n",
       "    </tr>\n",
       "  </thead>\n",
       "  <tbody>\n",
       "    <tr>\n",
       "      <th>0</th>\n",
       "      <td>1</td>\n",
       "      <td>12/02/2010</td>\n",
       "      <td>True</td>\n",
       "      <td>1641957.44</td>\n",
       "      <td>151315</td>\n",
       "      <td>3.616667</td>\n",
       "      <td>2.548</td>\n",
       "      <td>8.106</td>\n",
       "      <td>211.242170</td>\n",
       "      <td>63840</td>\n",
       "      <td>18191</td>\n",
       "      <td>4779</td>\n",
       "      <td>2170</td>\n",
       "    </tr>\n",
       "    <tr>\n",
       "      <th>1</th>\n",
       "      <td>1</td>\n",
       "      <td>19/02/2010</td>\n",
       "      <td>False</td>\n",
       "      <td>1611968.17</td>\n",
       "      <td>151315</td>\n",
       "      <td>4.405556</td>\n",
       "      <td>2.514</td>\n",
       "      <td>8.106</td>\n",
       "      <td>211.289143</td>\n",
       "      <td>63909</td>\n",
       "      <td>18086</td>\n",
       "      <td>4719</td>\n",
       "      <td>2190</td>\n",
       "    </tr>\n",
       "    <tr>\n",
       "      <th>2</th>\n",
       "      <td>1</td>\n",
       "      <td>26/02/2010</td>\n",
       "      <td>False</td>\n",
       "      <td>1409727.59</td>\n",
       "      <td>151315</td>\n",
       "      <td>8.127778</td>\n",
       "      <td>2.561</td>\n",
       "      <td>8.106</td>\n",
       "      <td>211.319643</td>\n",
       "      <td>63897</td>\n",
       "      <td>18153</td>\n",
       "      <td>4762</td>\n",
       "      <td>2169</td>\n",
       "    </tr>\n",
       "    <tr>\n",
       "      <th>3</th>\n",
       "      <td>1</td>\n",
       "      <td>12/03/2010</td>\n",
       "      <td>False</td>\n",
       "      <td>1439541.59</td>\n",
       "      <td>151315</td>\n",
       "      <td>14.327778</td>\n",
       "      <td>2.667</td>\n",
       "      <td>8.106</td>\n",
       "      <td>211.380643</td>\n",
       "      <td>63465</td>\n",
       "      <td>18308</td>\n",
       "      <td>4695</td>\n",
       "      <td>2181</td>\n",
       "    </tr>\n",
       "    <tr>\n",
       "      <th>4</th>\n",
       "      <td>1</td>\n",
       "      <td>19/03/2010</td>\n",
       "      <td>False</td>\n",
       "      <td>1472515.79</td>\n",
       "      <td>151315</td>\n",
       "      <td>12.544444</td>\n",
       "      <td>2.720</td>\n",
       "      <td>8.106</td>\n",
       "      <td>211.215635</td>\n",
       "      <td>63808</td>\n",
       "      <td>18299</td>\n",
       "      <td>4707</td>\n",
       "      <td>2182</td>\n",
       "    </tr>\n",
       "  </tbody>\n",
       "</table>\n",
       "</div>"
      ],
      "text/plain": [
       "   Store        Date  IsHoliday  Weekly_Sales    Size  Temperature  \\\n",
       "0      1  12/02/2010       True    1641957.44  151315     3.616667   \n",
       "1      1  19/02/2010      False    1611968.17  151315     4.405556   \n",
       "2      1  26/02/2010      False    1409727.59  151315     8.127778   \n",
       "3      1  12/03/2010      False    1439541.59  151315    14.327778   \n",
       "4      1  19/03/2010      False    1472515.79  151315    12.544444   \n",
       "\n",
       "   Fuel_Price  Unemployment         CPI  Average_earning  Population  \\\n",
       "0       2.548         8.106  211.242170            63840       18191   \n",
       "1       2.514         8.106  211.289143            63909       18086   \n",
       "2       2.561         8.106  211.319643            63897       18153   \n",
       "3       2.667         8.106  211.380643            63465       18308   \n",
       "4       2.720         8.106  211.215635            63808       18299   \n",
       "\n",
       "   Population_over_65  Population_under_18  \n",
       "0                4779                 2170  \n",
       "1                4719                 2190  \n",
       "2                4762                 2169  \n",
       "3                4695                 2181  \n",
       "4                4707                 2182  "
      ]
     },
     "execution_count": 4,
     "metadata": {},
     "output_type": "execute_result"
    }
   ],
   "source": [
    "# Import csv\n",
    "stores = pd.DataFrame(pd.read_csv(r'C:\\Users\\borum\\Desktop\\Woolworths Data Science Challenge\\winapps_challenge-master\\stores.csv'))\n",
    "stores.head()"
   ]
  },
  {
   "cell_type": "code",
   "execution_count": 5,
   "id": "005e3a75",
   "metadata": {},
   "outputs": [
    {
     "data": {
      "text/plain": [
       "(4545, 13)"
      ]
     },
     "execution_count": 5,
     "metadata": {},
     "output_type": "execute_result"
    }
   ],
   "source": [
    "# Understanding the data\n",
    "stores.shape"
   ]
  },
  {
   "cell_type": "code",
   "execution_count": 6,
   "id": "99182a7b",
   "metadata": {},
   "outputs": [
    {
     "data": {
      "text/html": [
       "<div>\n",
       "<style scoped>\n",
       "    .dataframe tbody tr th:only-of-type {\n",
       "        vertical-align: middle;\n",
       "    }\n",
       "\n",
       "    .dataframe tbody tr th {\n",
       "        vertical-align: top;\n",
       "    }\n",
       "\n",
       "    .dataframe thead th {\n",
       "        text-align: right;\n",
       "    }\n",
       "</style>\n",
       "<table border=\"1\" class=\"dataframe\">\n",
       "  <thead>\n",
       "    <tr style=\"text-align: right;\">\n",
       "      <th></th>\n",
       "      <th>Store</th>\n",
       "      <th>Weekly_Sales</th>\n",
       "      <th>Size</th>\n",
       "      <th>Temperature</th>\n",
       "      <th>Fuel_Price</th>\n",
       "      <th>Unemployment</th>\n",
       "      <th>CPI</th>\n",
       "      <th>Average_earning</th>\n",
       "      <th>Population</th>\n",
       "      <th>Population_over_65</th>\n",
       "      <th>Population_under_18</th>\n",
       "    </tr>\n",
       "  </thead>\n",
       "  <tbody>\n",
       "    <tr>\n",
       "      <th>count</th>\n",
       "      <td>4545.000000</td>\n",
       "      <td>4.545000e+03</td>\n",
       "      <td>4545.00000</td>\n",
       "      <td>4545.000000</td>\n",
       "      <td>4545.000000</td>\n",
       "      <td>4545.000000</td>\n",
       "      <td>4545.000000</td>\n",
       "      <td>4545.000000</td>\n",
       "      <td>4545.000000</td>\n",
       "      <td>4545.000000</td>\n",
       "      <td>4545.000000</td>\n",
       "    </tr>\n",
       "    <tr>\n",
       "      <th>mean</th>\n",
       "      <td>23.000000</td>\n",
       "      <td>1.041361e+06</td>\n",
       "      <td>130287.60000</td>\n",
       "      <td>15.912567</td>\n",
       "      <td>3.365705</td>\n",
       "      <td>7.994832</td>\n",
       "      <td>171.627002</td>\n",
       "      <td>59143.086469</td>\n",
       "      <td>13917.783938</td>\n",
       "      <td>3802.679868</td>\n",
       "      <td>1777.778658</td>\n",
       "    </tr>\n",
       "    <tr>\n",
       "      <th>std</th>\n",
       "      <td>12.988602</td>\n",
       "      <td>5.674444e+05</td>\n",
       "      <td>63119.06225</td>\n",
       "      <td>10.179806</td>\n",
       "      <td>0.459282</td>\n",
       "      <td>1.876028</td>\n",
       "      <td>39.381399</td>\n",
       "      <td>3286.820523</td>\n",
       "      <td>6351.960693</td>\n",
       "      <td>1758.848366</td>\n",
       "      <td>826.623486</td>\n",
       "    </tr>\n",
       "    <tr>\n",
       "      <th>min</th>\n",
       "      <td>1.000000</td>\n",
       "      <td>2.135383e+05</td>\n",
       "      <td>34875.00000</td>\n",
       "      <td>-14.700000</td>\n",
       "      <td>2.472000</td>\n",
       "      <td>3.879000</td>\n",
       "      <td>126.064000</td>\n",
       "      <td>52960.000000</td>\n",
       "      <td>4252.000000</td>\n",
       "      <td>1229.000000</td>\n",
       "      <td>540.000000</td>\n",
       "    </tr>\n",
       "    <tr>\n",
       "      <th>25%</th>\n",
       "      <td>12.000000</td>\n",
       "      <td>5.473849e+05</td>\n",
       "      <td>70713.00000</td>\n",
       "      <td>8.794444</td>\n",
       "      <td>2.936000</td>\n",
       "      <td>6.891000</td>\n",
       "      <td>131.784000</td>\n",
       "      <td>56544.000000</td>\n",
       "      <td>8395.000000</td>\n",
       "      <td>2199.000000</td>\n",
       "      <td>1148.000000</td>\n",
       "    </tr>\n",
       "    <tr>\n",
       "      <th>50%</th>\n",
       "      <td>23.000000</td>\n",
       "      <td>9.542202e+05</td>\n",
       "      <td>126512.00000</td>\n",
       "      <td>17.011111</td>\n",
       "      <td>3.459000</td>\n",
       "      <td>7.874000</td>\n",
       "      <td>182.622509</td>\n",
       "      <td>59002.000000</td>\n",
       "      <td>12200.000000</td>\n",
       "      <td>3474.000000</td>\n",
       "      <td>1721.000000</td>\n",
       "    </tr>\n",
       "    <tr>\n",
       "      <th>75%</th>\n",
       "      <td>34.000000</td>\n",
       "      <td>1.404430e+06</td>\n",
       "      <td>202307.00000</td>\n",
       "      <td>23.805556</td>\n",
       "      <td>3.742000</td>\n",
       "      <td>8.622000</td>\n",
       "      <td>212.833640</td>\n",
       "      <td>61875.000000</td>\n",
       "      <td>18601.000000</td>\n",
       "      <td>4760.000000</td>\n",
       "      <td>2295.000000</td>\n",
       "    </tr>\n",
       "    <tr>\n",
       "      <th>max</th>\n",
       "      <td>45.000000</td>\n",
       "      <td>3.818686e+06</td>\n",
       "      <td>219622.00000</td>\n",
       "      <td>37.855556</td>\n",
       "      <td>4.468000</td>\n",
       "      <td>14.313000</td>\n",
       "      <td>227.232807</td>\n",
       "      <td>65512.000000</td>\n",
       "      <td>28927.000000</td>\n",
       "      <td>7982.000000</td>\n",
       "      <td>3807.000000</td>\n",
       "    </tr>\n",
       "  </tbody>\n",
       "</table>\n",
       "</div>"
      ],
      "text/plain": [
       "             Store  Weekly_Sales          Size  Temperature   Fuel_Price  \\\n",
       "count  4545.000000  4.545000e+03    4545.00000  4545.000000  4545.000000   \n",
       "mean     23.000000  1.041361e+06  130287.60000    15.912567     3.365705   \n",
       "std      12.988602  5.674444e+05   63119.06225    10.179806     0.459282   \n",
       "min       1.000000  2.135383e+05   34875.00000   -14.700000     2.472000   \n",
       "25%      12.000000  5.473849e+05   70713.00000     8.794444     2.936000   \n",
       "50%      23.000000  9.542202e+05  126512.00000    17.011111     3.459000   \n",
       "75%      34.000000  1.404430e+06  202307.00000    23.805556     3.742000   \n",
       "max      45.000000  3.818686e+06  219622.00000    37.855556     4.468000   \n",
       "\n",
       "       Unemployment          CPI  Average_earning    Population  \\\n",
       "count   4545.000000  4545.000000      4545.000000   4545.000000   \n",
       "mean       7.994832   171.627002     59143.086469  13917.783938   \n",
       "std        1.876028    39.381399      3286.820523   6351.960693   \n",
       "min        3.879000   126.064000     52960.000000   4252.000000   \n",
       "25%        6.891000   131.784000     56544.000000   8395.000000   \n",
       "50%        7.874000   182.622509     59002.000000  12200.000000   \n",
       "75%        8.622000   212.833640     61875.000000  18601.000000   \n",
       "max       14.313000   227.232807     65512.000000  28927.000000   \n",
       "\n",
       "       Population_over_65  Population_under_18  \n",
       "count         4545.000000          4545.000000  \n",
       "mean          3802.679868          1777.778658  \n",
       "std           1758.848366           826.623486  \n",
       "min           1229.000000           540.000000  \n",
       "25%           2199.000000          1148.000000  \n",
       "50%           3474.000000          1721.000000  \n",
       "75%           4760.000000          2295.000000  \n",
       "max           7982.000000          3807.000000  "
      ]
     },
     "execution_count": 6,
     "metadata": {},
     "output_type": "execute_result"
    }
   ],
   "source": [
    "stores.describe()"
   ]
  },
  {
   "cell_type": "code",
   "execution_count": 7,
   "id": "2ab803d0",
   "metadata": {},
   "outputs": [
    {
     "data": {
      "text/plain": [
       "<AxesSubplot:>"
      ]
     },
     "execution_count": 7,
     "metadata": {},
     "output_type": "execute_result"
    },
    {
     "data": {
      "image/png": "[encoded data removed]",
      "text/plain": [
       "<Figure size 432x288 with 2 Axes>"
      ]
     },
     "metadata": {
      "needs_background": "light"
     },
     "output_type": "display_data"
    }
   ],
   "source": [
    "# Building the correlation matrix to visualise the data\n",
    "sns.heatmap(stores.corr())"
   ]
  },
  {
   "cell_type": "code",
   "execution_count": 8,
   "id": "e387d1b0",
   "metadata": {},
   "outputs": [],
   "source": [
    "# From this we can see the correlation between Weekly_Sales and the other variables - lighter the colour, stronger the correlation"
   ]
  },
  {
   "cell_type": "code",
   "execution_count": 12,
   "id": "c219a381",
   "metadata": {},
   "outputs": [
    {
     "ename": "ModuleNotFoundError",
     "evalue": "No module named 'sklearn.processing'",
     "output_type": "error",
     "traceback": [
      "\u001b[1;31m---------------------------------------------------------------------------\u001b[0m",
      "\u001b[1;31mModuleNotFoundError\u001b[0m                       Traceback (most recent call last)",
      "\u001b[1;32m<ipython-input-12-e5b0b6859635>\u001b[0m in \u001b[0;36m<module>\u001b[1;34m\u001b[0m\n\u001b[0;32m      1\u001b[0m \u001b[1;31m# Encoding the categorical data\u001b[0m\u001b[1;33m\u001b[0m\u001b[1;33m\u001b[0m\u001b[1;33m\u001b[0m\u001b[0m\n\u001b[1;32m----> 2\u001b[1;33m \u001b[1;32mfrom\u001b[0m \u001b[0msklearn\u001b[0m\u001b[1;33m.\u001b[0m\u001b[0mprocessing\u001b[0m \u001b[1;32mimport\u001b[0m \u001b[0mLableEncoder\u001b[0m\u001b[1;33m,\u001b[0m \u001b[0mOneHotEncoder\u001b[0m\u001b[1;33m\u001b[0m\u001b[1;33m\u001b[0m\u001b[0m\n\u001b[0m\u001b[0;32m      3\u001b[0m \u001b[0mlabelencoder\u001b[0m \u001b[1;33m=\u001b[0m \u001b[0mLabelEncoder\u001b[0m\u001b[1;33m(\u001b[0m\u001b[1;33m)\u001b[0m\u001b[1;33m\u001b[0m\u001b[1;33m\u001b[0m\u001b[0m\n\u001b[0;32m      4\u001b[0m \u001b[0mX\u001b[0m\u001b[1;33m[\u001b[0m\u001b[1;33m:\u001b[0m\u001b[1;33m,\u001b[0m \u001b[1;36m3\u001b[0m\u001b[1;33m]\u001b[0m \u001b[1;33m=\u001b[0m \u001b[0mlabelencoder\u001b[0m\u001b[1;33m.\u001b[0m\u001b[0mfit_transform\u001b[0m\u001b[1;33m(\u001b[0m\u001b[0mX\u001b[0m\u001b[1;33m[\u001b[0m\u001b[1;33m:\u001b[0m\u001b[1;33m,\u001b[0m \u001b[1;36m3\u001b[0m\u001b[1;33m]\u001b[0m\u001b[1;33m)\u001b[0m\u001b[1;33m\u001b[0m\u001b[1;33m\u001b[0m\u001b[0m\n\u001b[0;32m      5\u001b[0m \u001b[1;33m\u001b[0m\u001b[0m\n",
      "\u001b[1;31mModuleNotFoundError\u001b[0m: No module named 'sklearn.processing'"
     ]
    }
   ],
   "source": [
    "# Encoding the categorical data\n",
    "from sklearn.processing import LableEncoder, OneHotEncoder\n",
    "labelencoder = LabelEncoder()\n",
    "X[:, 3] = labelencoder.fit_transform(X[:, 3])\n",
    "\n",
    "onehotencoder = OneHotEncoder(categorical_features = [2])\n",
    "X = onehotencoder.fit_transform(X).toarray()"
   ]
  },
  {
   "cell_type": "code",
   "execution_count": 13,
   "id": "83553407",
   "metadata": {},
   "outputs": [
    {
     "name": "stdout",
     "output_type": "stream",
     "text": [
      "Note: you may need to restart the kernel to use updated packages.\n"
     ]
    },
    {
     "name": "stderr",
     "output_type": "stream",
     "text": [
      "ERROR: Could not find a version that satisfies the requirement sklearn.processing\n",
      "ERROR: No matching distribution found for sklearn.processing\n"
     ]
    }
   ],
   "source": [
    "pip install sklear"
   ]
  },
  {
   "cell_type": "code",
   "execution_count": null,
   "id": "bb58b591",
   "metadata": {},
   "outputs": [],
   "source": []
  }
 ],
 "metadata": {
  "kernelspec": {
   "display_name": "Python 3",
   "language": "python",
   "name": "python3"
  },
  "language_info": {
   "codemirror_mode": {
    "name": "ipython",
    "version": 3
   },
   "file_extension": ".py",
   "mimetype": "text/x-python",
   "name": "python",
   "nbconvert_exporter": "python",
   "pygments_lexer": "ipython3",
   "version": "3.8.8"
  }
 },
 "nbformat": 4,
 "nbformat_minor": 5
}
